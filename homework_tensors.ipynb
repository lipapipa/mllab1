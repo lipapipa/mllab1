{
 "cells": [
  {
   "cell_type": "code",
   "execution_count": null,
   "id": "9f3e781f",
   "metadata": {},
   "outputs": [
    {
     "name": "stdout",
     "output_type": "stream",
     "text": [
      "tensor([[0.6831, 0.5899, 0.3021, 0.6671],\n",
      "        [0.1175, 0.0086, 0.1131, 0.0976],\n",
      "        [0.7677, 0.7643, 0.0407, 0.4118]])\n",
      "tensor([[[0., 0., 0., 0.],\n",
      "         [0., 0., 0., 0.],\n",
      "         [0., 0., 0., 0.]],\n",
      "\n",
      "        [[0., 0., 0., 0.],\n",
      "         [0., 0., 0., 0.],\n",
      "         [0., 0., 0., 0.]]])\n",
      "tensor([[1., 1., 1., 1., 1.],\n",
      "        [1., 1., 1., 1., 1.],\n",
      "        [1., 1., 1., 1., 1.],\n",
      "        [1., 1., 1., 1., 1.],\n",
      "        [1., 1., 1., 1., 1.]])\n",
      "tensor([[ 0,  1,  2,  3],\n",
      "        [ 4,  5,  6,  7],\n",
      "        [ 8,  9, 10, 11],\n",
      "        [12, 13, 14, 15]])\n"
     ]
    }
   ],
   "source": [
    "import torch #импор библиотеки\n",
    "#1.1 Создание тензоров\n",
    "tensor0 = torch.rand(3,4) #Тензор размером 3x4, заполненный случайными числами от 0 до 1\n",
    "print(tensor0)\n",
    "tensor1= torch.zeros(2,3,4) #Тензор размером 2x3x4, заполненный нулями\n",
    "print(tensor1)\n",
    "tensor2 = torch.ones(5,5) # - Тензор размером 5x5, заполненный единицами\n",
    "print(tensor2)\n",
    "tensor3 = torch.arange(0, 16).reshape(4, 4) # - Тензор размером 4x4 с числами от 0 до 15 (используйте reshape)\n",
    "print(tensor3)"
   ]
  },
  {
   "cell_type": "code",
   "execution_count": null,
   "id": "0cdc9fa9",
   "metadata": {},
   "outputs": [],
   "source": []
  }
 ],
 "metadata": {
  "kernelspec": {
   "display_name": "myenv",
   "language": "python",
   "name": "python3"
  },
  "language_info": {
   "codemirror_mode": {
    "name": "ipython",
    "version": 3
   },
   "file_extension": ".py",
   "mimetype": "text/x-python",
   "name": "python",
   "nbconvert_exporter": "python",
   "pygments_lexer": "ipython3",
   "version": "3.11.4"
  }
 },
 "nbformat": 4,
 "nbformat_minor": 5
}
