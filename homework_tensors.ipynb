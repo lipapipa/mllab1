{
 "cells": [
  {
   "cell_type": "code",
   "execution_count": 2,
   "id": "9f3e781f",
   "metadata": {},
   "outputs": [
    {
     "name": "stdout",
     "output_type": "stream",
     "text": [
      "tensor([[0.1180, 0.3031, 0.1884, 0.7039],\n",
      "        [0.1534, 0.6679, 0.3787, 0.0367],\n",
      "        [0.3303, 0.0605, 0.7723, 0.4829]])\n",
      "tensor([[[0., 0., 0., 0.],\n",
      "         [0., 0., 0., 0.],\n",
      "         [0., 0., 0., 0.]],\n",
      "\n",
      "        [[0., 0., 0., 0.],\n",
      "         [0., 0., 0., 0.],\n",
      "         [0., 0., 0., 0.]]])\n",
      "tensor([[1., 1., 1., 1., 1.],\n",
      "        [1., 1., 1., 1., 1.],\n",
      "        [1., 1., 1., 1., 1.],\n",
      "        [1., 1., 1., 1., 1.],\n",
      "        [1., 1., 1., 1., 1.]])\n",
      "tensor([[ 0,  1,  2,  3],\n",
      "        [ 4,  5,  6,  7],\n",
      "        [ 8,  9, 10, 11],\n",
      "        [12, 13, 14, 15]])\n"
     ]
    }
   ],
   "source": [
    "import torch #импор библиотеки\n",
    "#1.1 Создание тензоров\n",
    "tensor0 = torch.rand(3,4) #Тензор размером 3x4, заполненный случайными числами от 0 до 1\n",
    "print(tensor0)\n",
    "tensor1= torch.zeros(2,3,4) #Тензор размером 2x3x4, заполненный нулями\n",
    "print(tensor1)\n",
    "tensor2 = torch.ones(5,5) # - Тензор размером 5x5, заполненный единицами\n",
    "print(tensor2)\n",
    "tensor3 = torch.arange(0, 16).reshape(4, 4) # - Тензор размером 4x4 с числами от 0 до 15 (используйте reshape)\n",
    "print(tensor3)"
   ]
  },
  {
   "cell_type": "code",
   "execution_count": 3,
   "id": "0cdc9fa9",
   "metadata": {},
   "outputs": [
    {
     "name": "stdout",
     "output_type": "stream",
     "text": [
      "torch.Size([4, 3])\n",
      "tensor([[134, 132,  90],\n",
      "        [287, 200, 254],\n",
      "        [307, 188, 262]])\n",
      "tensor([[  0, 108,  21,   5],\n",
      "        [ 11, 120,  45,  24],\n",
      "        [112,  30, 112,   8]])\n",
      "120\n"
     ]
    }
   ],
   "source": [
    "#1.2 Операции с тензорами \n",
    "a = torch.randint(0,16,(3,4))\n",
    "b = torch.randint(0,10,(4,3))\n",
    "t_a =a.t() #Транспонирование тензора A\n",
    "print(t_a.shape)\n",
    "a_matmuL_b = a@b # - Матричное умножение A и B\n",
    "print(a_matmuL_b)\n",
    "t_b = b.t()\n",
    "element_multy = a * t_b # - Поэлементное умножение A и транспонированного B\n",
    "print(element_multy)\n",
    "sum_a = torch.sum(a) # - Вычисление суммы всех элементов тензора A\n",
    "print(sum_a.item())"
   ]
  },
  {
   "cell_type": "code",
   "execution_count": 4,
   "id": "1483edaa",
   "metadata": {},
   "outputs": [
    {
     "name": "stdout",
     "output_type": "stream",
     "text": [
      "torch.Size([5, 5, 5])\n",
      "tensor([[  0,   1,   2,   3,   4],\n",
      "        [ 25,  26,  27,  28,  29],\n",
      "        [ 50,  51,  52,  53,  54],\n",
      "        [ 75,  76,  77,  78,  79],\n",
      "        [100, 101, 102, 103, 104]])\n",
      "tensor([[  4,   9,  14,  19,  24],\n",
      "        [ 29,  34,  39,  44,  49],\n",
      "        [ 54,  59,  64,  69,  74],\n",
      "        [ 79,  84,  89,  94,  99],\n",
      "        [104, 109, 114, 119, 124]])\n",
      "tensor([[[62, 63],\n",
      "         [67, 68]],\n",
      "\n",
      "        [[87, 88],\n",
      "         [92, 93]]])\n",
      "tensor([[[  0,   2,   4],\n",
      "         [ 10,  12,  14],\n",
      "         [ 20,  22,  24]],\n",
      "\n",
      "        [[ 50,  52,  54],\n",
      "         [ 60,  62,  64],\n",
      "         [ 70,  72,  74]],\n",
      "\n",
      "        [[100, 102, 104],\n",
      "         [110, 112, 114],\n",
      "         [120, 122, 124]]])\n"
     ]
    }
   ],
   "source": [
    "#1.3 Индексация и срезы\n",
    "tensor5 = torch.arange(125).reshape(5, 5, 5)  #тензор размером 5x5x5\n",
    "print(tensor5.shape)\n",
    "first_rows = tensor5[:, 0, :] #Первая строка\n",
    "print(first_rows)\n",
    "last_columns = tensor5[:, :, -1] # - Последний столбец\n",
    "print(last_columns)\n",
    "matrix2x2 = tensor5[2:4, 2:4, 2:4] # - Подматрицa размером 2x2 из центра тензора\n",
    "print(matrix2x2)\n",
    "even_indices = tensor5[::2, ::2, ::2] #Все элементы с четными индексами\n",
    "print(even_indices)"
   ]
  },
  {
   "cell_type": "code",
   "execution_count": null,
   "id": "57ba6b3b",
   "metadata": {},
   "outputs": [],
   "source": [
    "#1.4 Работа с формами\n",
    "tensor6 = torch.arange(0,24) #тензор размером 24 элемента\n",
    "print(tensor6.shape)\n",
    "tenosr2x12= tensor6.reshape(2,12) # - 2x12\n",
    "print(tenosr2x12.shape)\n",
    "tensor3x8 = tensor6.reshape(3,8) # - 3x8\n",
    "print(tensor3x8.shape)\n",
    "tensor4x6 = tensor6.reshape(4,6)# - 4x6\n",
    "print(tensor4x6.shape)\n",
    "tensor2x3x4 = tensor6.reshape(2,3,4) # - 2x3x4\n",
    "print(tensor2x3x4.shape)\n",
    "tensor2x2x2x3 = tensor6.reshape(2,2,2,3) # - 2x2x2x3\n",
    "print(tensor2x2x2x3.shape)"
   ]
  }
 ],
 "metadata": {
  "kernelspec": {
   "display_name": "myenv",
   "language": "python",
   "name": "python3"
  },
  "language_info": {
   "codemirror_mode": {
    "name": "ipython",
    "version": 3
   },
   "file_extension": ".py",
   "mimetype": "text/x-python",
   "name": "python",
   "nbconvert_exporter": "python",
   "pygments_lexer": "ipython3",
   "version": "3.11.4"
  }
 },
 "nbformat": 4,
 "nbformat_minor": 5
}
