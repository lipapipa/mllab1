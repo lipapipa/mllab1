{
 "cells": [
  {
   "cell_type": "code",
   "execution_count": null,
   "id": "deb8c89b",
   "metadata": {},
   "outputs": [
    {
     "name": "stdout",
     "output_type": "stream",
     "text": [
      "tensor(77., grad_fn=<AddBackward0>)\n",
      "Градиент по x: 28.0\n",
      "Градиент по y: 22.0\n",
      "Градиент по z: 20.0\n",
      "df/dx: 28.0\n",
      "df/dy: 22.0\n",
      "df/dz: 20.0\n"
     ]
    }
   ],
   "source": [
    "#2.1 Простые вычисления с градиентами\n",
    "import torch\n",
    "\n",
    "x = torch.tensor(2.0, requires_grad=True)\n",
    "y = torch.tensor(3.0, requires_grad=True)\n",
    "z = torch.tensor(4.0, requires_grad=True)\n",
    "\n",
    "# 2. Вычисляем функцию\n",
    "f = x**2 + y**2 + z**2 + 2*x*y*z\n",
    "print(f)\n",
    "\n",
    "# 3. Вычисляем градиенты\n",
    "f.backward()\n",
    "\n",
    "# 4. Получаем градиенты\n",
    "print(f\"Градиент по x: {x.grad}\")  # df/dx\n",
    "print(f\"Градиент по y: {y.grad}\")  # df/dy\n",
    "print(f\"Градиент по z: {z.grad}\")  # df/dz\n",
    "\n",
    "analytic_dx = 2*x.data + 2*y.data*z.data\n",
    "analytic_dy = 2*y.data + 2*x.data*z.data\n",
    "analytic_dz = 2*z.data + 2*x.data*y.data\n",
    "\n",
    "print(f\"df/dx: {analytic_dx}\")\n",
    "print(f\"df/dy: {analytic_dy}\")\n",
    "print(f\"df/dz: {analytic_dz}\")"
   ]
  },
  {
   "cell_type": "code",
   "execution_count": null,
   "id": "e14c3398",
   "metadata": {},
   "outputs": [
    {
     "name": "stdout",
     "output_type": "stream",
     "text": [
      "mse: 193.33999633789062 w_grad = 91.02000427246094, b_grad = 25.799999237060547\n"
     ]
    }
   ],
   "source": [
    "#2.2 Градиент функции потерь\n",
    "x = torch.tensor([2.0,3.4,5,2])\n",
    "y_true = torch.tensor([1.0, 3.0, 6.0, 8.0])\n",
    "n = len(x)\n",
    "w = torch.tensor(4.0, requires_grad=True)  \n",
    "b = torch.tensor(5.0, requires_grad=True)\n",
    "y_pred = w * x + b\n",
    "mse = torch.sum((y_pred - y_true)**2) / n\n",
    "mse.backward()\n",
    "print(f\"mse: {mse} w_grad = {w.grad}, b_grad = {b.grad}\")"
   ]
  },
  {
   "cell_type": "code",
   "execution_count": null,
   "id": "6cee8c0e",
   "metadata": {},
   "outputs": [
    {
     "name": "stdout",
     "output_type": "stream",
     "text": [
      "(tensor(1.5488),)\n",
      "tensor(1.5488)\n"
     ]
    }
   ],
   "source": [
    "#2.3 Цепное правило\n",
    "x = torch.tensor(3.2, requires_grad=True)\n",
    "f = torch.sin(x**2+1)\n",
    "b = torch.autograd.grad(outputs=f, inputs=x, retain_graph=True)#df/dx\n",
    "print(b)\n",
    "f.backward()\n",
    "print(x.grad)#df/dx\n"
   ]
  }
 ],
 "metadata": {
  "kernelspec": {
   "display_name": "myenv",
   "language": "python",
   "name": "python3"
  },
  "language_info": {
   "codemirror_mode": {
    "name": "ipython",
    "version": 3
   },
   "file_extension": ".py",
   "mimetype": "text/x-python",
   "name": "python",
   "nbconvert_exporter": "python",
   "pygments_lexer": "ipython3",
   "version": "3.11.4"
  }
 },
 "nbformat": 4,
 "nbformat_minor": 5
}
